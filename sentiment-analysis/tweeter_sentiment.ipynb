{
 "cells": [
  {
   "cell_type": "markdown",
   "metadata": {},
   "source": [
    "# Tweeter Sentiment Analysis"
   ]
  },
  {
   "cell_type": "code",
   "execution_count": 2,
   "metadata": {},
   "outputs": [],
   "source": [
    "# import from uw_ischool_sample file in the `data/` package (folder)\n",
    "from data.uw_ischool_sample import SAMPLE_TWEETS"
   ]
  },
  {
   "cell_type": "markdown",
   "metadata": {},
   "source": [
    "The data is represented as one list of dictionaries where each dictionary represents a tweet. Each dictionary contains many different values, some of which themselves may be dictionaries."
   ]
  },
  {
   "cell_type": "code",
   "execution_count": 3,
   "metadata": {},
   "outputs": [
    {
     "name": "stdout",
     "output_type": "stream",
     "text": [
      "[{'created_at': 'Mon Oct 10 18:39:51 +0000 2016', 'retweet_count': 9, 'entities': {'hashtags': [{'indices': [20, 41], 'text': 'IndigenousPeoplesDay'}]}, 'user': {'screen_name': 'UW_iSchool'}, 'text': 'RT @UWAPress: Happy #IndigenousPeoplesDay https://t.co/YmU9e9lj7v'}, {'created_at': 'Mon Oct 10 18:00:00 +0000 2016', 'retweet_count': 0, 'entities': {'hashtags': [{'indices': [16, 29], 'text': 'IdealistFair'}]}, 'user': {'screen_name': 'UW_iSchool'}, 'text': \"We'll be at the #IdealistFair this evening on the Seattle U. campus. Come and learn about our graduate programs: https://t.co/et1HrQshmr\"}, {'created_at': 'Mon Oct 10 15:10:36 +0000 2016', 'retweet_count': 1, 'entities': {'hashtags': []}, 'user': {'screen_name': 'UW_iSchool'}, 'text': 'RT @iYouthUW: iYouth Tips for 1st\\xa0Years https://t.co/K4SCIEhJ8k https://t.co/p4lbC6Jb5o'}]\n"
     ]
    }
   ],
   "source": [
    "#print first 3 elements of sample tweets\n",
    "print(SAMPLE_TWEETS[0:3])"
   ]
  },
  {
   "cell_type": "code",
   "execution_count": 4,
   "metadata": {},
   "outputs": [],
   "source": [
    "#import from data.sentiments_nrc module \n",
    "#it is a set of word-sentiments i.e. a list of words and emotions \n",
    "from data.sentiments_nrc import SENTIMENTS\n",
    "\n",
    "#list of emotions\n",
    "from data.sentiments_nrc import EMOTIONS"
   ]
  },
  {
   "cell_type": "code",
   "execution_count": 1,
   "metadata": {},
   "outputs": [],
   "source": [
    "#print(SENTIMENTS)"
   ]
  },
  {
   "cell_type": "code",
   "execution_count": 6,
   "metadata": {},
   "outputs": [
    {
     "name": "stdout",
     "output_type": "stream",
     "text": [
      "['positive', 'negative', 'anger', 'anticipation', 'disgust', 'fear', 'joy', 'sadness', 'surprise', 'trust']\n"
     ]
    }
   ],
   "source": [
    "print(EMOTIONS)"
   ]
  },
  {
   "cell_type": "markdown",
   "metadata": {},
   "source": [
    "## Text Sentiment\n",
    "All of the sentiment analysis is based on the individual words in the text."
   ]
  },
  {
   "cell_type": "code",
   "execution_count": 7,
   "metadata": {},
   "outputs": [],
   "source": [
    "import re\n",
    "\n",
    "#function that takes a tweet's text (a string) and splits it up into a list of individual words.\n",
    "\n",
    "def tokenizeWords(input_text):\n",
    "    #split the words\n",
    "    split_words = re.split('\\W+', input_text.lower())\n",
    "    #remove words with less than 2 letters\n",
    "    tokenize_list = [elem for elem in split_words if len(elem)>1]\n",
    "    return tokenize_list"
   ]
  },
  {
   "cell_type": "markdown",
   "metadata": {},
   "source": [
    "This function filters a list of the words to get only those words that contain a specific emotion. \n",
    "To determien whether a word has a particular emotion or not, the word is looked up in the imported SENTIMENTS variable. The word is used as a \"key\" to find the dictionary of emotions for that word, and then the emotion is used as the key to that dictionary to determine if the word has it. "
   ]
  },
  {
   "cell_type": "code",
   "execution_count": 8,
   "metadata": {},
   "outputs": [],
   "source": [
    "#function determines which words from a list have _each_ emotion (i.e., the \"emotional\" words), producing a dictionary of that information.\n",
    "\n",
    "def filterWords(tokenize_list):\n",
    "    filtered_dict = {}\n",
    "    for emotion in EMOTIONS:\n",
    "        #get the emotion for every word in tokenized list\n",
    "        filtered_dict[emotion] = [word for word in tokenize_list if SENTIMENTS.get(word) and\n",
    "                                                                     SENTIMENTS.get(word).get(emotion)==1]\n",
    "    return filtered_dict"
   ]
  },
  {
   "cell_type": "markdown",
   "metadata": {},
   "source": [
    "This function gets a list of the \"most common\" words in a list. It is a new list containing each word in the original list, in descending order by how many times that word appears in the orignal list."
   ]
  },
  {
   "cell_type": "code",
   "execution_count": 9,
   "metadata": {},
   "outputs": [
    {
     "data": {
      "text/plain": [
       "['c', 'a', 'b']"
      ]
     },
     "execution_count": 9,
     "metadata": {},
     "output_type": "execute_result"
    }
   ],
   "source": [
    "def commonWords(words_list):\n",
    "    count_words = {}\n",
    "    for word in words_list:\n",
    "        if word in count_words.keys():\n",
    "            #get the count of the word from new dictionary count_words\n",
    "            val = count_words.get(word)\n",
    "            #update the count if you come across the same word again\n",
    "            count_words.update({word:val+1})\n",
    "        else:\n",
    "            count_words.update({word:1})\n",
    "    \n",
    "    #sort the list in desc order\n",
    "    sortedList = sorted(words_list, key=count_words.__getitem__,reverse = True)\n",
    "    \n",
    "    newList = []\n",
    "    for i in sortedList:\n",
    "        if i not in newList:\n",
    "            newList.append(i)\n",
    "    return newList\n",
    "    \n",
    "w =  ['a','b','c','c','c','a']\n",
    "commonWords(w)  "
   ]
  },
  {
   "cell_type": "markdown",
   "metadata": {},
   "source": [
    "## Tweet Statistics"
   ]
  },
  {
   "cell_type": "markdown",
   "metadata": {},
   "source": [
    "This function takes a list of tweet data as an argument and returns the data of interest to display in a tabular format. For each emotion, the following things are produced:\n",
    "\n",
    "1. The most common words across all tweets that have that emotion\n",
    "2. The percentage of words across all tweets that have that emotion"
   ]
  },
  {
   "cell_type": "code",
   "execution_count": 10,
   "metadata": {},
   "outputs": [],
   "source": [
    "from itertools import chain\n",
    "from functools import reduce\n",
    "from collections import defaultdict\n",
    "\n",
    "def analyze_tweets(tweets):\n",
    "    \n",
    "    emotion_dict = {emotion:[] for emotion in EMOTIONS}\n",
    "    templist = []\n",
    "    tweet_stats = defaultdict(list)\n",
    "    \n",
    "    for tweet in tweets:\n",
    "        #get the text of every tweet, tokenize and filter the words\n",
    "        tokenized = tokenizeWords(tweet['text'])\n",
    "        filtered = filterWords(tokenized)\n",
    "        templist.append(filtered)\n",
    "\n",
    "    #associate the emotion with the words\n",
    "    for emotion_value in templist:\n",
    "        for key in emotion_dict.keys():\n",
    "            if emotion_value[key]!=[]:\n",
    "                emotion_dict[key].append(emotion_value[key])\n",
    "            \n",
    "    emotion_dict = {key:sum(value,[]) for key,value in emotion_dict.items()}\n",
    "    #call the func to get most common words\n",
    "    mostCommonWords = {key:commonWords(emotion_dict[key])[0:3] for key in emotion_dict}  \n",
    "    #reduce funtion to count number of words\n",
    "    total= reduce(lambda x,y: x+y,[len(tokenizeWords(tweet['text'])) for tweet in tweets])\n",
    "    #count the percentage of emotion\n",
    "    emotionPerc = {key: round(100*len(value)/total,2) for key,value in emotion_dict.items()}\n",
    "    \n",
    "    for element in (emotionPerc,mostCommonWords):\n",
    "        for key, value in element.items():    \n",
    "            tweet_stats[key].append(value)\n",
    "            \n",
    "            \n",
    "    return tweet_stats"
   ]
  },
  {
   "cell_type": "code",
   "execution_count": 11,
   "metadata": {},
   "outputs": [
    {
     "data": {
      "text/plain": [
       "defaultdict(list,\n",
       "            {'positive': [6.16, ['learn', 'faculty', 'happy']],\n",
       "             'negative': [0.88, ['fall', 'rejection', 'outstanding']],\n",
       "             'anger': [0.33, ['rejection', 'disaster', 'involvement']],\n",
       "             'anticipation': [2.53, ['happy', 'top', 'ready']],\n",
       "             'disgust': [0.44, ['rejection', 'weird', 'finally']],\n",
       "             'fear': [0.44, ['rejection', 'surprise', 'problem']],\n",
       "             'joy': [1.76, ['happy', 'peace', 'deal']],\n",
       "             'sadness': [0.55, ['fall', 'rejection', 'problem']],\n",
       "             'surprise': [0.99, ['deal', 'award', 'surprised']],\n",
       "             'trust': [3.08, ['school', 'faculty', 'happy']]})"
      ]
     },
     "execution_count": 11,
     "metadata": {},
     "output_type": "execute_result"
    }
   ],
   "source": [
    "analyze_tweets(SAMPLE_TWEETS)"
   ]
  },
  {
   "cell_type": "markdown",
   "metadata": {},
   "source": [
    "### Displaying Tweets "
   ]
  },
  {
   "cell_type": "code",
   "execution_count": 12,
   "metadata": {},
   "outputs": [],
   "source": [
    "def show(tweet_stats):\n",
    "    print(\"{0:14} {1:11} {2:35}\".format(\"EMOTION\",\"% WORDS\",\"EXAMPLE WORDS\"))\n",
    "    \n",
    "    #display tweets,emotion percentage and words\n",
    "    for key,val in sorted(tweet_stats.items(), key=lambda x: x[1][0],reverse=True):\n",
    "        print(\"{0:14} {1:<11} {2:35}\".format(key, str(round(val[0],2))+\"%\", ', '.join(val[1]))) "
   ]
  },
  {
   "cell_type": "markdown",
   "metadata": {},
   "source": [
    "### Fetching Data"
   ]
  },
  {
   "cell_type": "code",
   "execution_count": 13,
   "metadata": {},
   "outputs": [],
   "source": [
    "import requests\n",
    "import json\n",
    "\n",
    "#function to get the live data\n",
    "def downloadData(username):\n",
    "    parameters = {'screen_name':username}\n",
    "    response = requests.get('https://faculty.washington.edu/joelross/proxy/twitter/timeline/',params = parameters)\n",
    "    data = response.text\n",
    "    parsed = json.loads(data)\n",
    "    return parsed\n",
    "     "
   ]
  },
  {
   "cell_type": "markdown",
   "metadata": {},
   "source": [
    "The main function prompts the user for a Twitter username, calls the download function to fetch the tweets, and passes it to analyze and show functions in order to display sentiment analysis of the user's timeline. "
   ]
  },
  {
   "cell_type": "code",
   "execution_count": 15,
   "metadata": {},
   "outputs": [
    {
     "name": "stdout",
     "output_type": "stream",
     "text": [
      "Please enter your Twitter username-->sample\n",
      "EMOTION        % WORDS     EXAMPLE WORDS                      \n",
      "positive       6.16%       learn, faculty, happy              \n",
      "trust          3.08%       school, faculty, happy             \n",
      "anticipation   2.53%       happy, top, ready                  \n",
      "joy            1.76%       happy, peace, deal                 \n",
      "surprise       0.99%       deal, award, surprised             \n",
      "negative       0.88%       fall, rejection, outstanding       \n",
      "sadness        0.55%       fall, rejection, problem           \n",
      "disgust        0.44%       rejection, weird, finally          \n",
      "fear           0.44%       rejection, surprise, problem       \n",
      "anger          0.33%       rejection, disaster, involvement   \n"
     ]
    }
   ],
   "source": [
    "#main function\n",
    "def main():\n",
    "    name = input(\"Please enter your Twitter username-->\")\n",
    "    name = name.lower()\n",
    "    #give sample_tweet as inputs if user enters sample\n",
    "    if name == 'sample':\n",
    "        analyzedData = analyze_tweets(SAMPLE_TWEETS)\n",
    "    else: \n",
    "        tweetData = downloadData(name)\n",
    "        analyzedData = analyze_tweets(tweetData)\n",
    "        \n",
    "    show(analyzedData)\n",
    "    \n",
    "\n",
    "if __name__ == '__main__':\n",
    "     main() "
   ]
  },
  {
   "cell_type": "markdown",
   "metadata": {},
   "source": [
    "Based on the following output, the current sentiments of ischool and cse are very different.\n",
    "The most common word for CSE is mad for most emotions. \n",
    "On the other hand, for ischool most words fall under the positive emotion and hence they have the highest percentage in the tweets. "
   ]
  },
  {
   "cell_type": "code",
   "execution_count": 17,
   "metadata": {},
   "outputs": [
    {
     "name": "stdout",
     "output_type": "stream",
     "text": [
      "Please enter your Twitter username-->ischool\n",
      "EMOTION        % WORDS     EXAMPLE WORDS                      \n",
      "positive       7.81%       build, enhance, feature            \n",
      "trust          2.02%       assessment, school, show           \n",
      "negative       0.76%       subject, remove                    \n",
      "anticipation   0.76%       attendance, start                  \n",
      "surprise       0.76%       assessment                         \n",
      "anger          0.25%       remove                             \n",
      "fear           0.25%       remove                             \n",
      "joy            0.25%       create                             \n",
      "sadness        0.25%       remove                             \n",
      "disgust        0.0%                                           \n"
     ]
    }
   ],
   "source": [
    "main()"
   ]
  },
  {
   "cell_type": "code",
   "execution_count": 18,
   "metadata": {},
   "outputs": [
    {
     "name": "stdout",
     "output_type": "stream",
     "text": [
      "Please enter your Twitter username-->CSE\n",
      "EMOTION        % WORDS     EXAMPLE WORDS                      \n",
      "negative       9.09%       mad                                \n",
      "anger          9.09%       mad                                \n",
      "anticipation   9.09%       time                               \n",
      "disgust        9.09%       mad                                \n",
      "fear           9.09%       mad                                \n",
      "sadness        9.09%       mad                                \n",
      "positive       0.0%                                           \n",
      "joy            0.0%                                           \n",
      "surprise       0.0%                                           \n",
      "trust          0.0%                                           \n"
     ]
    }
   ],
   "source": [
    "main()"
   ]
  }
 ],
 "metadata": {
  "kernelspec": {
   "display_name": "Python 3",
   "language": "python",
   "name": "python3"
  },
  "language_info": {
   "codemirror_mode": {
    "name": "ipython",
    "version": 3
   },
   "file_extension": ".py",
   "mimetype": "text/x-python",
   "name": "python",
   "nbconvert_exporter": "python",
   "pygments_lexer": "ipython3",
   "version": "3.7.1"
  },
  "toc": {
   "colors": {
    "hover_highlight": "#DAA520",
    "running_highlight": "#FF0000",
    "selected_highlight": "#FFD700"
   },
   "moveMenuLeft": true,
   "nav_menu": {
    "height": "84px",
    "width": "252px"
   },
   "navigate_menu": true,
   "number_sections": true,
   "sideBar": true,
   "threshold": 4,
   "toc_cell": false,
   "toc_section_display": "block",
   "toc_window_display": false,
   "widenNotebook": false
  }
 },
 "nbformat": 4,
 "nbformat_minor": 2
}
